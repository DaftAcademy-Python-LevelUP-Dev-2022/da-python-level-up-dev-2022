{
 "cells": [
  {
   "cell_type": "markdown",
   "metadata": {
    "slideshow": {
     "slide_type": "slide"
    }
   },
   "source": [
    "# D jak Deploy\n",
    "\n",
    "\n",
    "### Marcin Jaroszewski\n",
    "### Python level up 2022\n",
    "### 10.05.2022"
   ]
  },
  {
   "cell_type": "markdown",
   "metadata": {
    "slideshow": {
     "slide_type": "slide"
    }
   },
   "source": [
    "# I. Cel dzisiejszego spotkania"
   ]
  },
  {
   "cell_type": "markdown",
   "metadata": {
    "slideshow": {
     "slide_type": "fragment"
    }
   },
   "source": [
    "Napisanie prostej aplikacji webowej w python i \"wrzucenie jej do internetu\". "
   ]
  },
  {
   "cell_type": "markdown",
   "metadata": {
    "slideshow": {
     "slide_type": "slide"
    }
   },
   "source": [
    "# II. Trochę teorii"
   ]
  },
  {
   "cell_type": "markdown",
   "metadata": {
    "slideshow": {
     "slide_type": "subslide"
    }
   },
   "source": [
    "## Aplikacja webowa"
   ]
  },
  {
   "cell_type": "markdown",
   "metadata": {
    "slideshow": {
     "slide_type": "fragment"
    }
   },
   "source": [
    "- Aplikacja działająca w modelu klient-serwer;\n",
    "- Klient: najczęściej przeglądarka (ale może to być też np. inna aplikacja);\n",
    "- Serwer: serwer aplikacji webowej, który nasłuchuje na połączenia na wybranych portach (zazwyczaj 80 lub 443);\n",
    "- Klient z serwerem komunikują się za pomocą protokołu HTTP."
   ]
  },
  {
   "cell_type": "markdown",
   "metadata": {
    "slideshow": {
     "slide_type": "subslide"
    }
   },
   "source": [
    "## Protokół HTTP"
   ]
  },
  {
   "cell_type": "markdown",
   "metadata": {
    "slideshow": {
     "slide_type": "fragment"
    }
   },
   "source": [
    "- Połączenie inicjowane przez klienta;\n",
    "- Bezstanowe;\n",
    "- Korzysta z protokołu TCP."
   ]
  },
  {
   "cell_type": "markdown",
   "metadata": {
    "slideshow": {
     "slide_type": "subslide"
    }
   },
   "source": [
    "## Request HTTP"
   ]
  },
  {
   "cell_type": "markdown",
   "metadata": {
    "slideshow": {
     "slide_type": "fragment"
    }
   },
   "source": [
    "```\n",
    "METODA URL WERSJA_HTTP\n",
    "<0 lub więcej> NAGŁÓWKI <w postaci NAZWA_NAGŁÓWKA: WARTOŚĆ>\n",
    "<pusta linia>\n",
    "<opcjonalna> TREŚĆ_ZAPYTANIA\n",
    "```"
   ]
  },
  {
   "cell_type": "markdown",
   "metadata": {
    "slideshow": {
     "slide_type": "subslide"
    }
   },
   "source": [
    "## (Najważniejsze) Metody HTTP"
   ]
  },
  {
   "cell_type": "markdown",
   "metadata": {
    "slideshow": {
     "slide_type": "fragment"
    }
   },
   "source": [
    "Źródło: https://tools.ietf.org/html/rfc7231\n",
    "\n",
    "- **GET** - pobranie zasobu;\n",
    "- **POST** - przesyłanie danych od klienta do serwera, najczęściej służy do stworzenia zasobu;\n",
    "- DELETE - żądanie usunięcia zasobu;\n",
    "- PUT - przesyłanie danych od klienta do serwera, najczęściej służy do zastąpienia w całości istniejącego zasobu;\n",
    "- PATCH - przesyłanie danych od klienta do serwera, najczęściej służy do częściowej aktualizacji istniejącego zasobu.\n"
   ]
  },
  {
   "cell_type": "markdown",
   "metadata": {
    "slideshow": {
     "slide_type": "subslide"
    }
   },
   "source": [
    "## Pozostałe metody HTTP"
   ]
  },
  {
   "cell_type": "markdown",
   "metadata": {
    "slideshow": {
     "slide_type": "fragment"
    }
   },
   "source": [
    "- HEAD - pobranie nagłówków dla danego zasobu\n",
    "- OPTIONS - żądanie informacji o metodach dostępnych dla danego zasobu\n",
    "- CONNECT - wykorzystane w trakcie tunelowania z użyciem serwerów pośredniczących\n",
    "- TRACE - służy do diagnostyki\n",
    "\n",
    "Ale to nie wszystko: http://www.iana.org/assignments/http-methods/http-methods.xhtml"
   ]
  },
  {
   "cell_type": "markdown",
   "metadata": {
    "slideshow": {
     "slide_type": "subslide"
    }
   },
   "source": [
    "## URL"
   ]
  },
  {
   "cell_type": "markdown",
   "metadata": {
    "slideshow": {
     "slide_type": "fragment"
    }
   },
   "source": [
    "Lokalizacja zasobu, w formacie:\n",
    "\n",
    "```\n",
    "scheme:[//[user[:password]@]host[:port]][/path][?query][#fragment]\n",
    "```\n",
    "Przykład\n",
    "\n",
    "```\n",
    "pełen adres: https://pl.wikipedia.org/wiki/Hypertext_Transfer_Protocol\n",
    "adres serwera: https://pl.wikipedia.org\n",
    "ścieżka do zasobu: /wiki/Hypertext_Transfer_Protocol\n",
    "```\n",
    "https://en.wikipedia.org/wiki/URL"
   ]
  },
  {
   "cell_type": "markdown",
   "metadata": {
    "slideshow": {
     "slide_type": "subslide"
    }
   },
   "source": [
    "## Wersja HTTP"
   ]
  },
  {
   "cell_type": "markdown",
   "metadata": {
    "slideshow": {
     "slide_type": "fragment"
    }
   },
   "source": [
    "- HTTP/0.9 (rok 1991)\n",
    "- HTTP/1.0 (rok 1996)\n",
    "- HTTP/1.1 (rok 1997)\n",
    "- HTTP/2.0 (rok 2015) https://tools.ietf.org/html/rfc7540\n",
    "- HTTP/3.0 (rok 2022 - draft) https://quicwg.org/base-drafts/draft-ietf-quic-http.html"
   ]
  },
  {
   "cell_type": "markdown",
   "metadata": {
    "slideshow": {
     "slide_type": "subslide"
    }
   },
   "source": [
    "## Nagłówki HTTP"
   ]
  },
  {
   "cell_type": "markdown",
   "metadata": {
    "slideshow": {
     "slide_type": "fragment"
    }
   },
   "source": [
    "- Host\n",
    "- User-Agent\n",
    "- Content-Type\n",
    "- Cookie\n",
    "\n",
    "więcej: https://pl.wikipedia.org/wiki/Lista_nag%C5%82%C3%B3wk%C3%B3w_HTTP"
   ]
  },
  {
   "cell_type": "markdown",
   "metadata": {
    "slideshow": {
     "slide_type": "subslide"
    }
   },
   "source": [
    "## Przykładowe requesty HTTP"
   ]
  },
  {
   "cell_type": "markdown",
   "metadata": {
    "slideshow": {
     "slide_type": "fragment"
    }
   },
   "source": [
    "GET:\n",
    "```\n",
    "GET /hello.htm HTTP/1.1\n",
    "User-Agent: Mozilla/4.0 (compatible; MSIE5.01; Windows NT)\n",
    "Host: www.tutorialspoint.com\n",
    "Accept-Language: en-us\n",
    "Accept-Encoding: gzip, deflate\n",
    "Connection: Keep-Alive\n",
    "```\n",
    "POST:\n",
    "```\n",
    "POST /cgi-bin/process.cgi HTTP/1.1\n",
    "User-Agent: Mozilla/4.0 (compatible; MSIE5.01; Windows NT)\n",
    "Host: www.tutorialspoint.com\n",
    "Content-Type: application/x-www-form-urlencoded\n",
    "Content-Length: 49\n",
    "Accept-Language: en-us\n",
    "Accept-Encoding: gzip, deflate\n",
    "Connection: Keep-Alive\n",
    "\n",
    "licenseID=string&content=string&/paramsXML=string\n",
    "```"
   ]
  },
  {
   "cell_type": "markdown",
   "metadata": {
    "slideshow": {
     "slide_type": "subslide"
    }
   },
   "source": [
    "## Response HTTP"
   ]
  },
  {
   "cell_type": "markdown",
   "metadata": {
    "slideshow": {
     "slide_type": "fragment"
    }
   },
   "source": [
    "```\n",
    "WERSJA_HTTP STATUS_HTTP OPIS_STATUSU\n",
    "<0 lub więcej> NAGŁÓWKI <w postaci NAZWA_NAGŁÓWKA: WARTOŚĆ>\n",
    "<pusta linia>\n",
    "<opcjonalna> TREŚĆ_ODPOWIEDZI\n",
    "```"
   ]
  },
  {
   "cell_type": "markdown",
   "metadata": {
    "slideshow": {
     "slide_type": "slide"
    }
   },
   "source": [
    "### Grupy statusów HTTP z przykładami"
   ]
  },
  {
   "cell_type": "markdown",
   "metadata": {
    "slideshow": {
     "slide_type": "subslide"
    }
   },
   "source": [
    "### 1xx - informacyjne"
   ]
  },
  {
   "cell_type": "markdown",
   "metadata": {
    "slideshow": {
     "slide_type": "subslide"
    }
   },
   "source": [
    "![Continue](https://http.cat/100)"
   ]
  },
  {
   "cell_type": "markdown",
   "metadata": {
    "slideshow": {
     "slide_type": "subslide"
    }
   },
   "source": [
    "### 2xx - sukces"
   ]
  },
  {
   "cell_type": "markdown",
   "metadata": {
    "slideshow": {
     "slide_type": "subslide"
    }
   },
   "source": [
    "![OK](https://httpstatusdogs.com/img/200.jpg)"
   ]
  },
  {
   "cell_type": "markdown",
   "metadata": {
    "slideshow": {
     "slide_type": "subslide"
    }
   },
   "source": [
    "### 3xx - przekierowania"
   ]
  },
  {
   "cell_type": "markdown",
   "metadata": {
    "slideshow": {
     "slide_type": "subslide"
    }
   },
   "source": [
    "![Moved Permanently](https://http.cat/301)"
   ]
  },
  {
   "cell_type": "markdown",
   "metadata": {
    "slideshow": {
     "slide_type": "subslide"
    }
   },
   "source": [
    "![Found](https://httpstatusdogs.com/img/302.jpg)"
   ]
  },
  {
   "cell_type": "markdown",
   "metadata": {
    "slideshow": {
     "slide_type": "subslide"
    }
   },
   "source": [
    "### 4xx - błąd klienta"
   ]
  },
  {
   "cell_type": "markdown",
   "metadata": {
    "slideshow": {
     "slide_type": "subslide"
    }
   },
   "source": [
    "![Bad request](https://http.cat/400)"
   ]
  },
  {
   "cell_type": "markdown",
   "metadata": {
    "slideshow": {
     "slide_type": "subslide"
    }
   },
   "source": [
    "![Unauthorized](https://http.cat/401)"
   ]
  },
  {
   "cell_type": "markdown",
   "metadata": {
    "slideshow": {
     "slide_type": "subslide"
    }
   },
   "source": [
    "![Not found](https://http.cat/404)"
   ]
  },
  {
   "cell_type": "markdown",
   "metadata": {
    "slideshow": {
     "slide_type": "subslide"
    }
   },
   "source": [
    "### 5xx - Błąd serwera"
   ]
  },
  {
   "cell_type": "markdown",
   "metadata": {
    "slideshow": {
     "slide_type": "subslide"
    }
   },
   "source": [
    "![Internal server error](https://http.cat/500)"
   ]
  },
  {
   "cell_type": "markdown",
   "metadata": {
    "slideshow": {
     "slide_type": "subslide"
    }
   },
   "source": [
    "### Czasem heheszki zajdą za daleko"
   ]
  },
  {
   "cell_type": "markdown",
   "metadata": {
    "slideshow": {
     "slide_type": "subslide"
    }
   },
   "source": [
    "![Teapot](https://http.cat/418)"
   ]
  },
  {
   "cell_type": "markdown",
   "metadata": {
    "slideshow": {
     "slide_type": "subslide"
    }
   },
   "source": [
    "Obrazki wzięte z:\n",
    "- https://httpstatusdogs.com/\n",
    "- https://www.flickr.com/photos/girliemac/sets/72157628409467125\n",
    "\n",
    "\n",
    "Jest ich tam więcej :)"
   ]
  },
  {
   "cell_type": "markdown",
   "metadata": {
    "slideshow": {
     "slide_type": "subslide"
    }
   },
   "source": [
    "### Przykładowe odpowiedzi HTTP\n",
    "Sukces:\n",
    "```\n",
    "HTTP/1.1 200 OK\n",
    "Date: Mon, 27 Jul 2009 12:28:53 GMT\n",
    "Server: Apache/2.2.14 (Win32)\n",
    "Last-Modified: Wed, 22 Jul 2009 19:15:56 GMT\n",
    "Content-Length: 88\n",
    "Content-Type: text/html\n",
    "Connection: Closed\n",
    "\n",
    "<html>\n",
    "<body>\n",
    "<h1>Hello, World!</h1>\n",
    "</body>\n",
    "</html>\n",
    "```\n",
    "\n",
    "Błąd:\n",
    "```\n",
    "HTTP/1.1 404 Not Found\n",
    "Date: Sun, 18 Oct 2012 10:36:20 GMT\n",
    "Server: Apache/2.2.14 (Win32)\n",
    "Content-Length: 230\n",
    "Connection: Closed\n",
    "Content-Type: text/html; charset=iso-8859-1\n",
    "```"
   ]
  },
  {
   "cell_type": "markdown",
   "metadata": {
    "slideshow": {
     "slide_type": "subslide"
    }
   },
   "source": [
    "# HTTPS\n",
    "- szyfrowana wersja HTTP\n",
    "- szyfruje dane przy pomocy protokołu TLS\n",
    "- zapobiega przechwytywaniu i zmienianiu danych\n",
    "- wywołanie protokołu zaczyna się od `https://`\n",
    "- przeglądarki pokazują nam kłódki"
   ]
  },
  {
   "cell_type": "markdown",
   "metadata": {
    "slideshow": {
     "slide_type": "slide"
    }
   },
   "source": [
    "# III. Czego będziemy używać"
   ]
  },
  {
   "cell_type": "markdown",
   "metadata": {
    "slideshow": {
     "slide_type": "subslide"
    }
   },
   "source": [
    "## 1. Język programowania"
   ]
  },
  {
   "cell_type": "markdown",
   "metadata": {
    "slideshow": {
     "slide_type": "fragment"
    }
   },
   "source": [
    "To jest kurs python więc będziemy używać najnowszej wersji python :)"
   ]
  },
  {
   "cell_type": "markdown",
   "metadata": {
    "slideshow": {
     "slide_type": "subslide"
    }
   },
   "source": [
    "## 2. Framework webowy"
   ]
  },
  {
   "cell_type": "markdown",
   "metadata": {
    "slideshow": {
     "slide_type": "subslide"
    }
   },
   "source": [
    "Jest wiele możliwych frameworków np:\n",
    "- Django\n",
    "- Flask\n",
    "- Pyramid\n",
    "- Tornado\n",
    "- Bottle\n",
    "- Starlette\n",
    "- Fastapi\n"
   ]
  },
  {
   "cell_type": "markdown",
   "metadata": {
    "slideshow": {
     "slide_type": "subslide"
    }
   },
   "source": [
    "Do tego kursu wybrałem Fastapi, ponieważ:\n",
    "- jest w miarę nowe\n",
    "- korzysta z nowych rozwiązań w python\n",
    "- ma jasną dokumentację z przykładami\n",
    "- wydaje się proste w użyciu\n",
    "- nie jest tak rozbudowane jak Django"
   ]
  },
  {
   "cell_type": "markdown",
   "metadata": {
    "slideshow": {
     "slide_type": "subslide"
    }
   },
   "source": [
    "## 3. Framework testowy"
   ]
  },
  {
   "cell_type": "markdown",
   "metadata": {
    "slideshow": {
     "slide_type": "fragment"
    }
   },
   "source": [
    "Tu nie ma wielkiego wyboru - fastapi zaleca pytest. Nie ma potrzeby wyważać otwartych drzwi.\n",
    "Poza tym pytest to naprawdę dobry framework do testów, znacznie przyjemnijszy od wbudowanego w bibliotekę standardową."
   ]
  },
  {
   "cell_type": "markdown",
   "metadata": {
    "slideshow": {
     "slide_type": "subslide"
    }
   },
   "source": [
    "## 4. Hosting"
   ]
  },
  {
   "cell_type": "markdown",
   "metadata": {
    "slideshow": {
     "slide_type": "fragment"
    }
   },
   "source": [
    "Jest wiele darmowych hostingów, ale my przez większość zajęć będziemy używać heroku, z powodów:\n",
    "- jest niesamowicie łatwe na początku\n",
    "- przy niskim użyciu jest z darmo"
   ]
  },
  {
   "cell_type": "markdown",
   "metadata": {
    "slideshow": {
     "slide_type": "fragment"
    }
   },
   "source": [
    "Do prac domowych możecie używać dowolnych hostingów, jeśli z jakiś powodów heroku Wam się nie podoba. Ale macie ich używać poprawnie."
   ]
  },
  {
   "cell_type": "markdown",
   "metadata": {
    "slideshow": {
     "slide_type": "subslide"
    }
   },
   "source": [
    "## 5. Repozytorium"
   ]
  },
  {
   "cell_type": "markdown",
   "metadata": {
    "slideshow": {
     "slide_type": "fragment"
    }
   },
   "source": [
    "Jest wiele możliwośći nawet wśród darmowych. Ale heroku ma bardzo dobrą integrację z GitHub więc tego użyjemy."
   ]
  },
  {
   "cell_type": "markdown",
   "metadata": {
    "slideshow": {
     "slide_type": "subslide"
    }
   },
   "source": [
    "## 6. Narzędzie do sprawdzania prac domowych."
   ]
  },
  {
   "cell_type": "markdown",
   "metadata": {
    "slideshow": {
     "slide_type": "fragment"
    }
   },
   "source": [
    "Użwamy github classrooms. Po wykładzie Monika opowie jak się sprawa ma z pracami domowymi."
   ]
  },
  {
   "cell_type": "markdown",
   "metadata": {
    "slideshow": {
     "slide_type": "subslide"
    }
   },
   "source": [
    "## 7. Podsumowanie "
   ]
  },
  {
   "cell_type": "markdown",
   "metadata": {
    "slideshow": {
     "slide_type": "fragment"
    }
   },
   "source": [
    "1. Język programwania - Python3.10.3 https://www.python.org/downloads/release/python-3103/ (to jest najnowsza wersja wspierana przez heroku https://devcenter.heroku.com/articles/python-support#supported-runtimes)\n",
    "2. Framework webowy - Fastapi https://fastapi.tiangolo.com\n",
    "3. Framework testowy - pytest https://docs.pytest.org/en/latest\n",
    "4. Hosting - heroku https://heroku.com\n",
    "5. Repozytorium - GitHub https://github.com"
   ]
  },
  {
   "cell_type": "markdown",
   "metadata": {
    "slideshow": {
     "slide_type": "slide"
    }
   },
   "source": [
    "# IV. Do dzieła"
   ]
  },
  {
   "cell_type": "markdown",
   "metadata": {
    "slideshow": {
     "slide_type": "subslide"
    }
   },
   "source": [
    "## 1. Przygotowanie środowiska wirtualnego"
   ]
  },
  {
   "cell_type": "markdown",
   "metadata": {
    "slideshow": {
     "slide_type": "fragment"
    }
   },
   "source": [
    "Ale, po co?"
   ]
  },
  {
   "cell_type": "markdown",
   "metadata": {
    "slideshow": {
     "slide_type": "fragment"
    }
   },
   "source": [
    "Żeby, zależności jednego projektu nie przeciekały do innego projektu."
   ]
  },
  {
   "cell_type": "markdown",
   "metadata": {
    "slideshow": {
     "slide_type": "subslide"
    }
   },
   "source": [
    "Przechodzimy do katalogu, w którym chcemy trzymać wirtualne środowisko i uruchamiamy:\n",
    "\n",
    "```bash\n",
    "python3.10 -m venv nazwa_virtual_env\n",
    "```"
   ]
  },
  {
   "cell_type": "markdown",
   "metadata": {
    "slideshow": {
     "slide_type": "fragment"
    }
   },
   "source": [
    "Teraz w katalogu `nazwa_virtual_env` powinno pojawić się dużo podkatalogów i plików."
   ]
  },
  {
   "cell_type": "markdown",
   "metadata": {
    "slideshow": {
     "slide_type": "subslide"
    }
   },
   "source": [
    "Żeby używać środowiska wirtualnego to musimy je \"uruchomić\" - sprawić, aby konsola, której będziemy używali korzystała z bibliotek danego środowiska."
   ]
  },
  {
   "cell_type": "markdown",
   "metadata": {
    "slideshow": {
     "slide_type": "fragment"
    }
   },
   "source": [
    "Aktywowanie środowiska wirtualnego:\n",
    "\n",
    "Ubuntu:\n",
    "```bash\n",
    "source nazwa_virtual_env/bin/activate\n",
    "```\n",
    "\n",
    "Okienka:\n",
    "```\n",
    "nazwa_virtual_env\\Scripts\\activate.bat\n",
    "```"
   ]
  },
  {
   "cell_type": "markdown",
   "metadata": {
    "slideshow": {
     "slide_type": "subslide"
    }
   },
   "source": [
    "Po udanej aktywacji powinniśmy zobaczyć na początku nowej linii `(nazwa_virtual_env)`. Oznacza to, że w tej konsoli możemy korzystać z bibliotek w podanym środowisku wirtualnym."
   ]
  },
  {
   "cell_type": "markdown",
   "metadata": {
    "slideshow": {
     "slide_type": "subslide"
    }
   },
   "source": [
    "## 2. Instalacja zależności"
   ]
  },
  {
   "cell_type": "markdown",
   "metadata": {
    "slideshow": {
     "slide_type": "fragment"
    }
   },
   "source": [
    "W konsoli z włączonym odpowiednim virtualenv:\n",
    "\n",
    "```bash\n",
    "pip install fastapi[all]\n",
    "```"
   ]
  },
  {
   "cell_type": "markdown",
   "metadata": {
    "slideshow": {
     "slide_type": "fragment"
    }
   },
   "source": [
    "Zostanie zainstalowane fastapi ze wszystkimi zależnościami.\n",
    "Chwilę to zajmie."
   ]
  },
  {
   "cell_type": "markdown",
   "metadata": {
    "slideshow": {
     "slide_type": "fragment"
    }
   },
   "source": [
    "Zobaczmy co zostało zainstalowane:\n",
    "```bash\n",
    "pip freeze\n",
    "```"
   ]
  },
  {
   "cell_type": "markdown",
   "metadata": {
    "slideshow": {
     "slide_type": "fragment"
    }
   },
   "source": [
    "Przygotowanie pliku z zależnościami\n",
    "\n",
    "```bash\n",
    "pip freeze > requirements.txt\n",
    "```\n"
   ]
  },
  {
   "cell_type": "markdown",
   "metadata": {
    "slideshow": {
     "slide_type": "fragment"
    }
   },
   "source": [
    "Plik `requirements.txt` zawiera zależności potrzebne do uruchomienia naszego projektu. Będzie nam potrzebny później. Ale póki co zobaczmy co jest w środku."
   ]
  },
  {
   "cell_type": "markdown",
   "metadata": {
    "slideshow": {
     "slide_type": "subslide"
    }
   },
   "source": [
    "## 3. Wreszcie jakiś kod"
   ]
  },
  {
   "cell_type": "markdown",
   "metadata": {
    "slideshow": {
     "slide_type": "subslide"
    }
   },
   "source": [
    "```python\n",
    "# main.py\n",
    "\n",
    "from fastapi import FastAPI\n",
    "\n",
    "app = FastAPI()\n",
    "\n",
    "@app.get(\"/\")\n",
    "def root():\n",
    "    return {\"message\": \"Hello World\"}\n",
    "```"
   ]
  },
  {
   "cell_type": "markdown",
   "metadata": {
    "slideshow": {
     "slide_type": "subslide"
    }
   },
   "source": [
    "Uruchamiamy:\n",
    "```bash\n",
    "uvicorn main:app\n",
    "```\n",
    "\n",
    "Przechodzimy pod:\n",
    "```\n",
    "http://127.0.0.1:8000\n",
    "http://127.0.0.1:8000/docs\n",
    "```\n",
    "\n"
   ]
  },
  {
   "cell_type": "markdown",
   "metadata": {
    "slideshow": {
     "slide_type": "subslide"
    }
   },
   "source": [
    "Omówienie linia po linii co się dzieje"
   ]
  },
  {
   "cell_type": "markdown",
   "metadata": {
    "slideshow": {
     "slide_type": "subslide"
    }
   },
   "source": [
    "## 4. Napisanie testu do endpointu"
   ]
  },
  {
   "cell_type": "markdown",
   "metadata": {
    "slideshow": {
     "slide_type": "subslide"
    }
   },
   "source": [
    "Musimy najpierw doinstalować zależności - czyli `pytest`\n",
    "```bash\n",
    "pip install pytest\n",
    "```"
   ]
  },
  {
   "cell_type": "markdown",
   "metadata": {
    "slideshow": {
     "slide_type": "subslide"
    }
   },
   "source": [
    "Zobaczmy co zostało zainstalowane:\n",
    "```\n",
    "pip freeze\n",
    "```\n",
    "Przygotowanie pliku z zależnościami developerskimi\n",
    "```\n",
    "pip freeze > requirements-dev.txt\n",
    "```\n",
    "I teraz usuwamy wszystko co jest w `requirements.txt` z `requirements-dev.txt`.\n",
    "Jeśli chodzi o zależności projektowe to jest z nimi dużo zabawy/problemów/możliwości. Nie jest to niestety prosty temat.\n"
   ]
  },
  {
   "cell_type": "markdown",
   "metadata": {
    "slideshow": {
     "slide_type": "subslide"
    }
   },
   "source": [
    "Tak na prawdę nasza aplikacja wymaga tylko:\n",
    "```\n",
    "fastapi\n",
    "uvicorn\n",
    "```\n",
    "\n",
    "Cała reszta, czyli:\n",
    "```\n",
    "click\n",
    "h11\n",
    "httptools\n",
    "pydantic\n",
    "starlette\n",
    "uvloop\n",
    "websockets\n",
    "```\n",
    "\n",
    "Zostanie zainstalowana jako zależności naszych zależności."
   ]
  },
  {
   "cell_type": "markdown",
   "metadata": {
    "slideshow": {
     "slide_type": "subslide"
    }
   },
   "source": [
    "Z jednej strony niby nie ma potrzeby podawania zależności zależności, bo pip je sam ogarnie i zainstaluje."
   ]
  },
  {
   "cell_type": "markdown",
   "metadata": {
    "slideshow": {
     "slide_type": "subslide"
    }
   },
   "source": [
    "### Mały quiz:\n",
    "1. Dlaczego warto przypinać wersje zależności?\n",
    "2. Czy warto przypinać wersje zależności zależności?\n",
    "3. Czy można zrobić coś jeszcze lepiej? I dlaczego?"
   ]
  },
  {
   "cell_type": "markdown",
   "metadata": {
    "slideshow": {
     "slide_type": "subslide"
    }
   },
   "source": [
    "Do uruchamiania testów potrzebujemy:\n",
    "```\n",
    "pytest\n",
    "requests\n",
    "```"
   ]
  },
  {
   "cell_type": "markdown",
   "metadata": {
    "slideshow": {
     "slide_type": "subslide"
    }
   },
   "source": [
    "```python\n",
    "from fastapi.testclient import TestClient\n",
    "\n",
    "from main import app\n",
    "\n",
    "client = TestClient(app)\n",
    "\n",
    "\n",
    "def test_read_main():\n",
    "    response = client.get(\"/\")\n",
    "    assert response.status_code == 200\n",
    "    assert response.json() == {\"message\": \"Hello World\"}\n",
    "```"
   ]
  },
  {
   "cell_type": "markdown",
   "metadata": {
    "slideshow": {
     "slide_type": "subslide"
    }
   },
   "source": [
    "Uruchomienie testów (z katalogu z aplikacją), z virtualenv z zainstalowanyi wszystkim zależnościami:\n",
    "```bash\n",
    "pytest\n",
    "```"
   ]
  },
  {
   "cell_type": "markdown",
   "metadata": {
    "slideshow": {
     "slide_type": "fragment"
    }
   },
   "source": [
    "link do dokumentacji:\n",
    "- testowanie fastapi: https://fastapi.tiangolo.com/tutorial/testing/\n",
    "- przykłdy użycia pytest: https://docs.pytest.org/en/latest/example/index.html\n"
   ]
  },
  {
   "cell_type": "markdown",
   "metadata": {
    "slideshow": {
     "slide_type": "subslide"
    }
   },
   "source": [
    "## 5. Czas na diploj"
   ]
  },
  {
   "cell_type": "markdown",
   "metadata": {
    "slideshow": {
     "slide_type": "subslide"
    }
   },
   "source": [
    "Będziemy potrzebować jeszcze dwóch plików:\n",
    "\n",
    "`Procfile`\n",
    "```\n",
    "web: uvicorn main:app --host=0.0.0.0 --port=${PORT:-5000}\n",
    "```\n",
    "`runtime.txt`\n",
    "```\n",
    "python-3.10.3\n",
    "```"
   ]
  },
  {
   "cell_type": "markdown",
   "metadata": {
    "slideshow": {
     "slide_type": "subslide"
    }
   },
   "source": [
    "- Tworzymy (publiczne - dla pracy domowej) repo w github: https://github.com/new\n",
    "- klonujemy repozytorium\n",
    "- wrzucamy nasz kod + zależności\n",
    "    - main.py - kod aplikacji\n",
    "    - requirements.txt - spis zależności\n",
    "    - Procfile - heroku specific, żeby heroku wiedziało jak ma uruchomić naszą aplikację\n",
    "    - runtime.txt - heroku specific, żeby heroku wiedziało której wersji python użyć\n",
    "- zakładamy konto na heroku\n",
    "- utworzenie nowej aplikacji na heroku: https://dashboard.heroku.com/new-app\n",
    "- wyklikujemy projekt na heroku i podpinamy pod niego diploj\n",
    "    - W zakładce `Deploy` w sekcji `Deployment method` wybieramy opcję `GitHub`\n",
    "    - dodajemy swojego użytkownika\n",
    "    - wybieramy repo\n",
    "    - wybieramy opcję automatycznego diploju z mastera (main)\n",
    "    - Za pierwszym razem diplojujemy ręcznie (przycisk `Deploy now` na dole)\n",
    "    - patrzymy w zakładkę `Activity`\n",
    "    - Jak się zdiplojuje poprawnie to klikamy `Open app`\n",
    "    - podziwiamy jak pięknie i prosto było (jak komuś nie wyszło to debuguje XD)\n",
    "- od teraz po każdym pushu do mastera (main) diploj będzie się robił sam"
   ]
  },
  {
   "cell_type": "markdown",
   "metadata": {
    "slideshow": {
     "slide_type": "subslide"
    }
   },
   "source": [
    "Jak ktoś nie ogarnia git to powinien szybko zacząć :)\n",
    "- książka: https://git-scm.com/book/en/v2"
   ]
  },
  {
   "cell_type": "markdown",
   "metadata": {
    "slideshow": {
     "slide_type": "subslide"
    }
   },
   "source": [
    "## 6. Rozwój aplikacji"
   ]
  },
  {
   "cell_type": "markdown",
   "metadata": {
    "slideshow": {
     "slide_type": "subslide"
    }
   },
   "source": [
    "Chcielibyśmy, żeby aplikacji odpowiadała `Hello {name}` pod ścieżką `/hello/{name}`"
   ]
  },
  {
   "cell_type": "markdown",
   "metadata": {
    "slideshow": {
     "slide_type": "subslide"
    }
   },
   "source": [
    "Zaczniemy od napisania prostego testu"
   ]
  },
  {
   "cell_type": "markdown",
   "metadata": {
    "slideshow": {
     "slide_type": "subslide"
    }
   },
   "source": [
    "```python\n",
    "def test_hello_name(name):\n",
    "    name = 'Kamila'\n",
    "    response = client.get(f\"/hello/{name}\")\n",
    "    assert response.status_code == 200\n",
    "    assert response.text == f'\"Hello {name}\"'\n",
    "```"
   ]
  },
  {
   "cell_type": "markdown",
   "metadata": {
    "slideshow": {
     "slide_type": "fragment"
    }
   },
   "source": [
    "Ale możemy też znacznie ulepszyć nasz test."
   ]
  },
  {
   "cell_type": "markdown",
   "metadata": {
    "slideshow": {
     "slide_type": "subslide"
    }
   },
   "source": [
    "```python\n",
    "@pytest.mark.parametrize(\"name\", ['Zenek', 'Marek', 'Alojzy Niezdąży'])\n",
    "def test_hello_name(name):\n",
    "    response = client.get(f\"/hello/{name}\")\n",
    "    assert response.status_code == 200\n",
    "    assert response.text == f'\"Hello {name}\"'\n",
    "```"
   ]
  },
  {
   "cell_type": "markdown",
   "metadata": {
    "slideshow": {
     "slide_type": "subslide"
    }
   },
   "source": [
    "Czas na implementację"
   ]
  },
  {
   "cell_type": "markdown",
   "metadata": {
    "slideshow": {
     "slide_type": "subslide"
    }
   },
   "source": [
    "```python\n",
    "# main.py\n",
    "\n",
    "from fastapi import FastAPI\n",
    "\n",
    "app = FastAPI()\n",
    "\n",
    "@app.get(\"/\")\n",
    "def root():\n",
    "    return {\"message\": \"Hello World\"}\n",
    "    \n",
    "@app.get(\"/hello/{name}\")\n",
    "async def read_item(name: str):\n",
    "    return f\"Hello {name}\"\n",
    "```"
   ]
  },
  {
   "cell_type": "markdown",
   "metadata": {
    "slideshow": {
     "slide_type": "subslide"
    }
   },
   "source": [
    "Objaśnienie co się dzieje"
   ]
  },
  {
   "cell_type": "markdown",
   "metadata": {
    "slideshow": {
     "slide_type": "subslide"
    }
   },
   "source": [
    "Typowanie:\n",
    "- wprowadzenie od fastapi: https://fastapi.tiangolo.com/python-types/\n",
    "- dokumentacja: https://docs.python.org/3/library/typing.html\n",
    "- przewodnik od realpytho (Polecam ten artykuł - Marcin): https://realpython.com/python-type-checking/"
   ]
  },
  {
   "cell_type": "markdown",
   "metadata": {
    "slideshow": {
     "slide_type": "subslide"
    }
   },
   "source": [
    "Można jeszcze lepiej"
   ]
  },
  {
   "cell_type": "markdown",
   "metadata": {
    "slideshow": {
     "slide_type": "subslide"
    }
   },
   "source": [
    "```python\n",
    "from fastapi import FastAPI\n",
    "\n",
    "from pydantic import BaseModel\n",
    "\n",
    "app = FastAPI()\n",
    "# to see what funny will come\n",
    "app.counter = 0\n",
    "\n",
    "\n",
    "class HelloResp(BaseModel):\n",
    "    msg: str\n",
    "\n",
    "@app.get(\"/\")\n",
    "def root():\n",
    "    return {\"message\": \"Hello World\"}\n",
    "\n",
    "\n",
    "@app.get('/counter')\n",
    "def counter():\n",
    "\tapp.counter += 1\n",
    "\treturn str(app.counter)\n",
    "\n",
    "\n",
    "@app.get(\"/hello/{name}\", response_model=HelloResp)\n",
    "async def read_item(name: str):\n",
    "    return HelloResp(msg=f\"Hello {name}\")\n",
    "```"
   ]
  },
  {
   "cell_type": "markdown",
   "metadata": {
    "slideshow": {
     "slide_type": "subslide"
    }
   },
   "source": [
    "Pydantic:\n",
    "- oficjalna dokumentacja: https://pydantic-docs.helpmanual.io/\n",
    "- pydantic w fastapi: https://fastapi.tiangolo.com/python-types/#pydantic-models"
   ]
  },
  {
   "cell_type": "markdown",
   "metadata": {
    "slideshow": {
     "slide_type": "subslide"
    }
   },
   "source": [
    "## 7. Inne metody niż GET"
   ]
  },
  {
   "cell_type": "markdown",
   "metadata": {
    "slideshow": {
     "slide_type": "subslide"
    }
   },
   "source": [
    "### POST"
   ]
  },
  {
   "cell_type": "markdown",
   "metadata": {
    "slideshow": {
     "slide_type": "subslide"
    }
   },
   "source": [
    "piszemy test\n",
    "\n",
    "```python\n",
    "def test_receive_something():\n",
    "    response = client.post(\"/dej/mi/coś\", json={'first_key': 'some_value'})\n",
    "    assert response.json() == {\"received\": {'first_key': 'some_value'},\n",
    "                             \"constant_data\": \"python jest super\"}\n",
    "\n",
    "```"
   ]
  },
  {
   "cell_type": "markdown",
   "metadata": {
    "slideshow": {
     "slide_type": "subslide"
    }
   },
   "source": [
    "dopisujemy endpoint\n",
    "```python\n",
    "class GiveMeSomethingRq(BaseModel):\n",
    "    first_key: str\n",
    "\n",
    "\n",
    "class GiveMeSomethingResp(BaseModel):\n",
    "    received: Dict\n",
    "    constant_data: str = \"python jest super\"\n",
    "\n",
    "\n",
    "@app.post(\"/dej/mi/coś\", response_model=GiveMeSomethingResp)\n",
    "def receive_something(rq: GiveMeSomethingRq):\n",
    "    return GiveMeSomethingResp(received=rq.dict())\n",
    "\n",
    "```"
   ]
  },
  {
   "cell_type": "markdown",
   "metadata": {
    "slideshow": {
     "slide_type": "subslide"
    }
   },
   "source": [
    "![Dlaczego python](https://imgs.xkcd.com/comics/python.png)"
   ]
  },
  {
   "cell_type": "markdown",
   "metadata": {
    "slideshow": {
     "slide_type": "subslide"
    }
   },
   "source": [
    "Wiecej będzie na wykładzie nr 3"
   ]
  },
  {
   "cell_type": "markdown",
   "metadata": {
    "slideshow": {
     "slide_type": "slide"
    }
   },
   "source": [
    "# V. Pytania?"
   ]
  },
  {
   "cell_type": "markdown",
   "metadata": {
    "slideshow": {
     "slide_type": "subslide"
    }
   },
   "source": [
    "## Jest zadanie domowe ;)"
   ]
  },
  {
   "cell_type": "markdown",
   "metadata": {
    "slideshow": {
     "slide_type": "slide"
    }
   },
   "source": [
    "# That's all folks!"
   ]
  }
 ],
 "metadata": {
  "celltoolbar": "Slideshow",
  "kernelspec": {
   "display_name": "Python 3",
   "language": "python",
   "name": "python3"
  },
  "language_info": {
   "codemirror_mode": {
    "name": "ipython",
    "version": 3
   },
   "file_extension": ".py",
   "mimetype": "text/x-python",
   "name": "python",
   "nbconvert_exporter": "python",
   "pygments_lexer": "ipython3",
   "version": "3.8.2"
  }
 },
 "nbformat": 4,
 "nbformat_minor": 4
}
